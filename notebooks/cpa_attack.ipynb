{
 "cells": [
  {
   "cell_type": "code",
   "execution_count": null,
   "metadata": {},
   "outputs": [],
   "source": [
    "# import packages\n",
    "import chipwhisperer as cw\n",
    "import chipwhisperer.analyzer as cwa\n",
    "import holoviews as hv\n",
    "hv.extension('matplotlib')\n",
    "%matplotlib inline"
   ]
  },
  {
   "cell_type": "code",
   "execution_count": null,
   "metadata": {},
   "outputs": [],
   "source": [
    "# open project\n",
    "project = cw.open_project(\"./cpa_sakura.cwp\")"
   ]
  },
  {
   "cell_type": "code",
   "execution_count": null,
   "metadata": {},
   "outputs": [],
   "source": [
    "# plot traces\n",
    "plt = cw.plot(project.waves[0])\n",
    "for i in range(1, 10):\n",
    "    plt *= cw.plot(project.waves[i])\n",
    "plt"
   ]
  },
  {
   "cell_type": "code",
   "execution_count": null,
   "metadata": {},
   "outputs": [],
   "source": [
    "attack = cwa.cpa(project, cwa.leakage_models.last_round_state_diff)\n",
    "cb = cwa.get_jupyter_callback(attack)\n",
    "answer = attack.run(cb)"
   ]
  }
 ],
 "metadata": {
  "kernelspec": {
   "display_name": "venv-saba",
   "language": "python",
   "name": "python3"
  },
  "language_info": {
   "codemirror_mode": {
    "name": "ipython",
    "version": 3
   },
   "file_extension": ".py",
   "mimetype": "text/x-python",
   "name": "python",
   "nbconvert_exporter": "python",
   "pygments_lexer": "ipython3",
   "version": "3.10.12"
  },
  "orig_nbformat": 4
 },
 "nbformat": 4,
 "nbformat_minor": 2
}
