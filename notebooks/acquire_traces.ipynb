{
 "cells": [
  {
   "cell_type": "code",
   "execution_count": null,
   "metadata": {},
   "outputs": [],
   "source": [
    "# package import\n",
    "import chipwhisperer as cw\n",
    "from sca_tools.scopes import *\n",
    "from sca_tools.targets import SakuraX\n",
    "from tqdm import tqdm"
   ]
  },
  {
   "cell_type": "code",
   "execution_count": null,
   "metadata": {},
   "outputs": [],
   "source": [
    "# connect to the oscilloscope\n",
    "VisaAddress = # your visa address here\n",
    "scope = Oscilloscope(VisaAddress)\n",
    "# setting the scope\n",
    "# channel 3 is the trigger channel\n",
    "scope.config_trigger_channel(TriggerMode.EDGE_FALL, 3, 1, 0)\n",
    "# channel 1 is the trace channel, 2mV/div, trace period 4us\n",
    "scope.config_trace_channel(1, milliVolt(2), -1, microSecond(4), delay = 0, impedance=50)\n"
   ]
  },
  {
   "cell_type": "code",
   "execution_count": null,
   "metadata": {},
   "outputs": [],
   "source": [
    "# connect to the target\n",
    "target = cw.target(scope, SakuraX)"
   ]
  },
  {
   "cell_type": "code",
   "execution_count": null,
   "metadata": {},
   "outputs": [],
   "source": [
    "# create chipwhisperer project\n",
    "project = cw.create_project(\"cpa_sakura\", overwrite=True)"
   ]
  },
  {
   "cell_type": "code",
   "execution_count": null,
   "metadata": {},
   "outputs": [],
   "source": [
    "# acquire traces\n",
    "ktp = cw.ktp.Basic()\n",
    "# generate a key\n",
    "key = ktp.next_key()\n",
    "print(\"key: \", key)\n",
    "\n",
    "trace_count = 100\n",
    "\n",
    "progress_bar = tqdm(total=trace_count, desc=\"Capturing traces\")\n",
    "while len(project.traces) < trace_count:\n",
    "    text = ktp.next_text()\n",
    "    trace = cw.capture_trace(scope, target, text, key)\n",
    "    if trace is None:\n",
    "        continue\n",
    "    project.traces.append(trace)\n",
    "    progress_bar.update(1)"
   ]
  },
  {
   "cell_type": "code",
   "execution_count": null,
   "metadata": {},
   "outputs": [],
   "source": [
    "# save the project\n",
    "project.save()"
   ]
  }
 ],
 "metadata": {
  "kernelspec": {
   "display_name": "venv-saba",
   "language": "python",
   "name": "python3"
  },
  "language_info": {
   "codemirror_mode": {
    "name": "ipython",
    "version": 3
   },
   "file_extension": ".py",
   "mimetype": "text/x-python",
   "name": "python",
   "nbconvert_exporter": "python",
   "pygments_lexer": "ipython3",
   "version": "3.10.12"
  },
  "orig_nbformat": 4
 },
 "nbformat": 4,
 "nbformat_minor": 2
}
