{
 "cells": [
  {
   "cell_type": "code",
   "execution_count": null,
   "metadata": {},
   "outputs": [],
   "source": [
    "# package import\n",
    "import chipwhisperer as cw\n",
    "from cw_plugins.scopes import *\n",
    "from cw_plugins.targets import *\n",
    "from tqdm import tqdm\n",
    "import gui_helper as gui\n"
   ]
  },
  {
   "cell_type": "markdown",
   "metadata": {},
   "source": [
    "### VISA Instrument Selector\n",
    "Select a VISA instrument of an oscilloscope you want to use."
   ]
  },
  {
   "cell_type": "code",
   "execution_count": null,
   "metadata": {},
   "outputs": [],
   "source": [
    "display(gui.get_inst_sel())"
   ]
  },
  {
   "cell_type": "markdown",
   "metadata": {},
   "source": [
    "### Connect to the selected oscilloscope"
   ]
  },
  {
   "cell_type": "code",
   "execution_count": null,
   "metadata": {},
   "outputs": [],
   "source": [
    "# connect to the oscilloscope\n",
    "scope = Oscilloscope(gui.get_visa_address())"
   ]
  },
  {
   "cell_type": "markdown",
   "metadata": {},
   "source": [
    "### Configure channel settings\n",
    "At least, you need to configure trigger settings and trace settings by the following methods.\n",
    "\n",
    "`config_trigger_channel(mode, channel, scale, offset)`\n",
    "* `mode`: Trigger mode.\n",
    "  * TriggerMode.EDGE_RISE: trigger with rising edge.\n",
    "  * TriggerMode.EDGE_FALL: trigger with falling edge.\n",
    "  * TriggerMode.EDGE_ANY: trigger with both rising and falling edges.\n",
    "* `channel`: channel number\n",
    "* `scale`: vertical scale (V/div)\n",
    "* `offset`: vertical offset (V)\n",
    "\n",
    "`config_trace_channel(channel, scale, offset, period, delay = 0, ....)`\n",
    "* `channel`: channel number\n",
    "* `scale`: vertical scale (V/div)\n",
    "* `offset`: vertical offset (V)\n",
    "* `period`: acquired waveform period (s)\n",
    "* `delay`: delay time to start acquiring waveform after trigger (s)\n",
    "* `...`: other device-specific parameters\n"
   ]
  },
  {
   "cell_type": "code",
   "execution_count": null,
   "metadata": {},
   "outputs": [],
   "source": [
    "# setting the scope\n",
    "# channel 3 is the trigger channel\n",
    "scope.config_trigger_channel(TriggerMode.EDGE_FALL, 3, 1, 0)\n",
    "# channel 1 is the trace channel, 2mV/div, trace period 4us\n",
    "scope.config_trace_channel(1, milliVolt(2), -0.99, microSecond(4), delay = 0, impedance=50)\n"
   ]
  },
  {
   "cell_type": "markdown",
   "metadata": {},
   "source": [
    "### Target device\n",
    "This plugin provides additional target devices as follows:\n",
    "* `SakuraX`: Sakura-X board configured with its reference design.  \n",
    "  - Arguments:\n",
    "    * serial_port (str): path to the serial port connected to the Sakura-X board.\n",
    "* `ESP32`: ESP32 board  \n",
    "  - Arguments:\n",
    "    * serial_port (str): path to the serial port connected to the ESP32 board.  \n",
    "  - Options:  \n",
    "    * baudrate (int): baudrate of the serial port.\n",
    "* `SakuraXShellExampleAES128BitRTL`, `SakuraXShellExampleAES128BitHLS`  \n",
    "Sample of AES128 implementation using Sakura-X Shell.  \n",
    "  - Arguments:\n",
    "    * serial_port (str): path to the serial port connected to the Sakura-X board.\n",
    "* `SakuraXVexRISCVControlAES128bit`: Software implementation of AES running on VexRiscv_SakuraX\n",
    "  - Arguments:\n",
    "    * serial_port (str): path to the serial port connected to the Sakura-X board\n",
    "  - Options:  \n",
    "    * masked (bool): Use masked AES implmentation (Default: False)"
   ]
  },
  {
   "cell_type": "code",
   "execution_count": null,
   "metadata": {},
   "outputs": [],
   "source": [
    "display(gui.get_comport_sel())"
   ]
  },
  {
   "cell_type": "code",
   "execution_count": null,
   "metadata": {},
   "outputs": [],
   "source": [
    "# connect to the target\n",
    "from cw_plugins.targets import *\n",
    "target = cw.target(scope, SakuraX, serial_port = gui.get_comport())"
   ]
  },
  {
   "cell_type": "markdown",
   "metadata": {},
   "source": [
    "### Create project\n",
    "Create a project with the following code."
   ]
  },
  {
   "cell_type": "code",
   "execution_count": null,
   "metadata": {},
   "outputs": [],
   "source": [
    "### create chipwhisperer project\n",
    "project = cw.create_project(\"tmp\", overwrite=True)"
   ]
  },
  {
   "cell_type": "markdown",
   "metadata": {},
   "source": [
    "### Trace capturing setup\n",
    "`gui.get_waveform_pane` gives a waveform viewer.\n",
    "The last argument specifies how often to update preview.\n",
    "If you don't need the preview, comment out "
   ]
  },
  {
   "cell_type": "code",
   "execution_count": null,
   "metadata": {},
   "outputs": [],
   "source": [
    "# acquire traces\n",
    "ktp = cw.ktp.Basic()\n",
    "# generate a key\n",
    "key = ktp.next_key()\n",
    "print(\"key: \", key)\n",
    "\n",
    "trace_count = 10\n",
    "progress_bar = gui.TqdmWidget(max = trace_count, description=\"Capturing traces\")\n",
    "wave_pane = gui.get_waveform_pane(project, progress_bar, 2) "
   ]
  },
  {
   "cell_type": "markdown",
   "metadata": {},
   "source": [
    "### Start trace capturing"
   ]
  },
  {
   "cell_type": "code",
   "execution_count": null,
   "metadata": {},
   "outputs": [],
   "source": [
    "progress_bar.display()\n",
    "display(wave_pane)\n",
    "while len(project.traces) < trace_count:\n",
    "    text = ktp.next_text()\n",
    "    trace = cw.capture_trace(scope, target, text, key, as_int = True)\n",
    "    if trace is None:\n",
    "        continue\n",
    "    project.traces.append(trace)\n",
    "    progress_bar.update(1)"
   ]
  },
  {
   "cell_type": "markdown",
   "metadata": {},
   "source": [
    "### Save project\n",
    "Save the project by the following code."
   ]
  },
  {
   "cell_type": "code",
   "execution_count": null,
   "metadata": {},
   "outputs": [],
   "source": [
    "# save the project\n",
    "project.save()"
   ]
  }
 ],
 "metadata": {
  "kernelspec": {
   "display_name": "Python 3 (ipykernel)",
   "language": "python",
   "name": "python3"
  },
  "language_info": {
   "codemirror_mode": {
    "name": "ipython",
    "version": 3
   },
   "file_extension": ".py",
   "mimetype": "text/x-python",
   "name": "python",
   "nbconvert_exporter": "python",
   "pygments_lexer": "ipython3",
   "version": "3.9.18"
  }
 },
 "nbformat": 4,
 "nbformat_minor": 4
}
