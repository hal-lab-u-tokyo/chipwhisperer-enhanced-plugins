{
 "cells": [
  {
   "cell_type": "code",
   "execution_count": 6,
   "metadata": {},
   "outputs": [
    {
     "ename": "ImportError",
     "evalue": "cannot import name 'cpa_kernel' from 'cw_plugins.analyzer.attacks.cpa_algorithms' (/Users/moritamasaki/Documents/hw_security/venv/lib/python3.9/site-packages/cw_plugins/analyzer/attacks/cpa_algorithms/__init__.py)",
     "output_type": "error",
     "traceback": [
      "\u001b[0;31m---------------------------------------------------------------------------\u001b[0m",
      "\u001b[0;31mImportError\u001b[0m                               Traceback (most recent call last)",
      "Cell \u001b[0;32mIn[6], line 8\u001b[0m\n\u001b[1;32m      5\u001b[0m project \u001b[38;5;241m=\u001b[39m cw\u001b[38;5;241m.\u001b[39mopen_project(\u001b[38;5;124m\"\u001b[39m\u001b[38;5;124m/Users/moritamasaki/Documents/hw_security/data/sakura_x_traces/cpa_sakura_40000_traces.cwp\u001b[39m\u001b[38;5;124m\"\u001b[39m)\n\u001b[1;32m      7\u001b[0m \u001b[38;5;66;03m# from cw_plugins.analyzer.attacks.cpa_algorithms.fast_progressive import *\u001b[39;00m\n\u001b[0;32m----> 8\u001b[0m \u001b[38;5;28;01mfrom\u001b[39;00m \u001b[38;5;21;01mcw_plugins\u001b[39;00m\u001b[38;5;21;01m.\u001b[39;00m\u001b[38;5;21;01manalyzer\u001b[39;00m\u001b[38;5;21;01m.\u001b[39;00m\u001b[38;5;21;01mattacks\u001b[39;00m\u001b[38;5;21;01m.\u001b[39;00m\u001b[38;5;21;01mcpa_algorithms\u001b[39;00m\u001b[38;5;21;01m.\u001b[39;00m\u001b[38;5;21;01mfast_progressive\u001b[39;00m \u001b[38;5;28;01mimport\u001b[39;00m FastCPAProgressive\n\u001b[1;32m     10\u001b[0m attack \u001b[38;5;241m=\u001b[39m cwa\u001b[38;5;241m.\u001b[39mcpa(project, cwa\u001b[38;5;241m.\u001b[39mleakage_models\u001b[38;5;241m.\u001b[39mlast_round_state_diff, algorithm\u001b[38;5;241m=\u001b[39mFastCPAProgressive)\n\u001b[1;32m     11\u001b[0m \u001b[38;5;66;03m# attack = cwa.cpa(project, cwa.leakage_models.last_round_state_diff)\u001b[39;00m\n",
      "File \u001b[0;32m~/Documents/hw_security/venv/lib/python3.9/site-packages/cw_plugins/analyzer/attacks/cpa_algorithms/fast_progressive.py:7\u001b[0m\n\u001b[1;32m      3\u001b[0m \u001b[38;5;28;01mfrom\u001b[39;00m \u001b[38;5;21;01mchipwhisperer\u001b[39;00m\u001b[38;5;21;01m.\u001b[39;00m\u001b[38;5;21;01manalyzer\u001b[39;00m\u001b[38;5;21;01m.\u001b[39;00m\u001b[38;5;21;01mattacks\u001b[39;00m\u001b[38;5;21;01m.\u001b[39;00m\u001b[38;5;21;01malgorithmsbase\u001b[39;00m \u001b[38;5;28;01mimport\u001b[39;00m AlgorithmsBase\n\u001b[1;32m      4\u001b[0m \u001b[38;5;28;01mfrom\u001b[39;00m \u001b[38;5;21;01mchipwhisperer\u001b[39;00m\u001b[38;5;21;01m.\u001b[39;00m\u001b[38;5;21;01mlogging\u001b[39;00m \u001b[38;5;28;01mimport\u001b[39;00m \u001b[38;5;241m*\u001b[39m\n\u001b[0;32m----> 7\u001b[0m \u001b[38;5;28;01mfrom\u001b[39;00m \u001b[38;5;21;01m.\u001b[39;00m\u001b[38;5;21;01mmodels\u001b[39;00m \u001b[38;5;28;01mimport\u001b[39;00m get_c_model\n\u001b[1;32m      9\u001b[0m \u001b[38;5;28;01mclass\u001b[39;00m \u001b[38;5;21;01mFastCPAProgressive\u001b[39;00m(AlgorithmsBase):\n\u001b[1;32m     10\u001b[0m \u001b[38;5;250m    \u001b[39m\u001b[38;5;124;03m\"\"\"\u001b[39;00m\n\u001b[1;32m     11\u001b[0m \u001b[38;5;124;03m    CPA Attack done as a loop, but using an algorithm which can progressively add traces & give output stats\u001b[39;00m\n\u001b[1;32m     12\u001b[0m \u001b[38;5;124;03m    \"\"\"\u001b[39;00m\n",
      "File \u001b[0;32m~/Documents/hw_security/venv/lib/python3.9/site-packages/cw_plugins/analyzer/attacks/cpa_algorithms/models.py:2\u001b[0m\n\u001b[1;32m      1\u001b[0m \u001b[38;5;28;01mfrom\u001b[39;00m \u001b[38;5;21;01mchipwhisperer\u001b[39;00m\u001b[38;5;21;01m.\u001b[39;00m\u001b[38;5;21;01manalyzer\u001b[39;00m\u001b[38;5;21;01m.\u001b[39;00m\u001b[38;5;21;01mattacks\u001b[39;00m\u001b[38;5;21;01m.\u001b[39;00m\u001b[38;5;21;01mmodels\u001b[39;00m\u001b[38;5;21;01m.\u001b[39;00m\u001b[38;5;21;01mAES128_8bit\u001b[39;00m \u001b[38;5;28;01mimport\u001b[39;00m \u001b[38;5;241m*\u001b[39m\n\u001b[0;32m----> 2\u001b[0m \u001b[38;5;28;01mfrom\u001b[39;00m \u001b[38;5;21;01m.\u001b[39;00m \u001b[38;5;28;01mimport\u001b[39;00m cpa_kernel\n\u001b[1;32m      4\u001b[0m model_dict \u001b[38;5;241m=\u001b[39m {\n\u001b[1;32m      5\u001b[0m     SBox_output: cpa_kernel\u001b[38;5;241m.\u001b[39mSBoxOutput,\n\u001b[1;32m      6\u001b[0m     SBoxInOutDiff: cpa_kernel\u001b[38;5;241m.\u001b[39mSBoxInOutDiff,\n\u001b[1;32m      7\u001b[0m     LastroundStateDiff: cpa_kernel\u001b[38;5;241m.\u001b[39mLastRoundStateDiff,\n\u001b[1;32m      8\u001b[0m }\n\u001b[1;32m     10\u001b[0m \u001b[38;5;28;01mdef\u001b[39;00m \u001b[38;5;21mget_c_model\u001b[39m(model):\n",
      "\u001b[0;31mImportError\u001b[0m: cannot import name 'cpa_kernel' from 'cw_plugins.analyzer.attacks.cpa_algorithms' (/Users/moritamasaki/Documents/hw_security/venv/lib/python3.9/site-packages/cw_plugins/analyzer/attacks/cpa_algorithms/__init__.py)"
     ]
    }
   ],
   "source": [
    "# import packages\n",
    "import chipwhisperer as cw\n",
    "import chipwhisperer.analyzer as cwa\n",
    "\n",
    "project = cw.open_project(\"/Users/moritamasaki/Documents/hw_security/data/sakura_x_traces/cpa_sakura_40000_traces.cwp\")\n",
    "\n",
    "# from cw_plugins.analyzer.attacks.cpa_algorithms.fast_progressive import *\n",
    "from cw_plugins.analyzer.attacks.cpa_algorithms.fast_progressive import FastCPAProgressive\n",
    "\n",
    "attack = cwa.cpa(project, cwa.leakage_models.last_round_state_diff, algorithm=FastCPAProgressive)\n",
    "# attack = cwa.cpa(project, cwa.leakage_models.last_round_state_diff)\n",
    "\n",
    "cb = cwa.get_jupyter_callback(attack)\n",
    " \n",
    "attack_results = attack.run(cb, update_interval=2048)"
   ]
  }
 ],
 "metadata": {
  "kernelspec": {
   "display_name": "venv",
   "language": "python",
   "name": "python3"
  },
  "language_info": {
   "codemirror_mode": {
    "name": "ipython",
    "version": 3
   },
   "file_extension": ".py",
   "mimetype": "text/x-python",
   "name": "python",
   "nbconvert_exporter": "python",
   "pygments_lexer": "ipython3",
   "version": "3.9.5"
  }
 },
 "nbformat": 4,
 "nbformat_minor": 2
}
