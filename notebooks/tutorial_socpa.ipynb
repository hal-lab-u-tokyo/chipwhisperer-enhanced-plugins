{
 "cells": [
  {
   "cell_type": "code",
   "execution_count": null,
   "metadata": {},
   "outputs": [],
   "source": [
    "# import packages\n",
    "import chipwhisperer as cw\n",
    "import chipwhisperer.analyzer as cwa\n",
    "from cw_plugins.analyzer.attacks.cpa_algorithms.fast_progressive import *\n",
    "from ipyfilechooser import FileChooser"
   ]
  },
  {
   "cell_type": "code",
   "execution_count": null,
   "metadata": {},
   "outputs": [],
   "source": [
    "# project opener\n",
    "project = None\n",
    "file_choose = FileChooser()\n",
    "file_choose.filter_pattern = '*.cwp'\n",
    "def open_project(change):\n",
    "    global project\n",
    "    project = cw.open_project(file_choose.selected)\n",
    "file_choose.register_callback(open_project)\n",
    "display(file_choose)\n"
   ]
  },
  {
   "cell_type": "code",
   "execution_count": null,
   "metadata": {},
   "outputs": [],
   "source": [
    "# Run attack\n",
    "attack = cwa.cpa(project, cwa.leakage_models.last_round_state_diff, algorithm=FastCPAProgressive)\n",
    "# other available algorithms depending on your platform\n",
    "# - FastCPAProgressiveCuda: NVIDIA GPU and CUDA required\n",
    "# - FastCPAProgressiveOpenCL: OpenCL required\n",
    "# - FastCPAProgressiveOpenCLFP32: OpenCL required & uses only single precision floating point (e.g., for AppleSilicon GPUs)\n",
    "cb = cwa.get_jupyter_callback(attack)\n",
    "# optional settings\n",
    "# attack.point_range = (start_point, end_point)\n",
    "# attack.traces_range = (start_trace, end_trace)\n",
    "attack_results = attack.run(cb, update_interval=2048)"
   ]
  }
 ],
 "metadata": {
  "kernelspec": {
   "display_name": "venv",
   "language": "python",
   "name": "python3"
  },
  "language_info": {
   "codemirror_mode": {
    "name": "ipython",
    "version": 3
   },
   "file_extension": ".py",
   "mimetype": "text/x-python",
   "name": "python",
   "nbconvert_exporter": "python",
   "pygments_lexer": "ipython3",
   "version": "3.12.2"
  }
 },
 "nbformat": 4,
 "nbformat_minor": 2
}
