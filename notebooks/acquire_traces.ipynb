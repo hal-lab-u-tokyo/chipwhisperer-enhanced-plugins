{
 "cells": [
  {
   "cell_type": "code",
   "execution_count": null,
   "metadata": {},
   "outputs": [],
   "source": [
    "# package import\n",
    "import chipwhisperer as cw\n",
    "from cw_plugins.scopes import *\n",
    "from cw_plugins.targets import *\n",
    "from tqdm import tqdm\n",
    "from ipywidgets import Dropdown\n",
    "import pyvisa"
   ]
  },
  {
   "cell_type": "markdown",
   "metadata": {},
   "source": [
    "### VISA Instrument Selector\n",
    "Select a VISA instrument of an oscilloscope you want to use."
   ]
  },
  {
   "cell_type": "code",
   "execution_count": null,
   "metadata": {},
   "outputs": [],
   "source": [
    "VisaAddress = None\n",
    "inst_sel = Dropdown(options=pyvisa.ResourceManager().list_resources(), description='Select VISA Instrument:')\n",
    "inst_sel.options = list(inst_sel.options) + ['None']\n",
    "def set_visa_address(change):\n",
    "    global VisaAddress\n",
    "    VisaAddress = change['new']\n",
    "inst_sel.observe(set_visa_address, names='value')\n",
    "display(inst_sel)"
   ]
  },
  {
   "cell_type": "markdown",
   "metadata": {},
   "source": [
    "### Connect to the oscilloscope and channel settings\n",
    "At least, you need to configure trigger settings and trace settings by the following methods.\n",
    "\n",
    "`config_trigger_channel(mode, channel, scale, offset)`\n",
    "* `mode`: Trigger mode.\n",
    "  * TriggerMode.EDGE_RISE: trigger with rising edge.\n",
    "  * TriggerMode.EDGE_FALL: trigger with falling edge.\n",
    "  * TriggerMode.EDGE_ANY: trigger with both rising and falling edges.\n",
    "* `channel`: channel number\n",
    "* `scale`: vertical scale (V/div)\n",
    "* `offset`: vertical offset (V)\n",
    "\n",
    "`config_trace_channel(channel, scale, offset, period, delay = 0, ....)`\n",
    "* `channel`: channel number\n",
    "* `scale`: vertical scale (V/div)\n",
    "* `offset`: vertical offset (V)\n",
    "* `period`: acquired waveform period (s)\n",
    "* `delay`: delay time to start acquiring waveform after trigger (s)\n",
    "* `...`: other device-specific parameters\n"
   ]
  },
  {
   "cell_type": "code",
   "execution_count": null,
   "metadata": {},
   "outputs": [],
   "source": [
    "# connect to the oscilloscope\n",
    "scope = Oscilloscope(VisaAddress)\n",
    "# setting the scope\n",
    "# channel 3 is the trigger channel\n",
    "scope.config_trigger_channel(TriggerMode.EDGE_FALL, 3, 1, 0)\n",
    "# channel 1 is the trace channel, 2mV/div, trace period 4us\n",
    "scope.config_trace_channel(1, milliVolt(2), -1, microSecond(4), delay = 0, impedance=50)\n"
   ]
  },
  {
   "cell_type": "markdown",
   "metadata": {},
   "source": [
    "### Target device\n",
    "This plugin provides additional target devices as follows:\n",
    "* SakuraX: Sakura-X board configured with its reference design.  \n",
    "Options:\n",
    "  * serial_port (str): path to the serial port connected to the Sakura-X board.\n",
    "* ESP32: ESP32 board\n",
    "  * serial_port (str): path to the serial port connected to the ESP32 board.\n",
    "  * baudrate (int): baudrate of the serial port.\n",
    "* SakuraXShellExampleAES128BitRTL, SakuraXShellExampleAES128BitHLS\n",
    "Sample of AES128 implementation using Sakura-X Shell."
   ]
  },
  {
   "cell_type": "code",
   "execution_count": null,
   "metadata": {},
   "outputs": [],
   "source": [
    "# connect to the target\n",
    "target = cw.target(scope, SakuraX, serial_port = \"/dev/ttyUSB0\")"
   ]
  },
  {
   "cell_type": "markdown",
   "metadata": {},
   "source": [
    "### Create project\n",
    "Create a project with the following code."
   ]
  },
  {
   "cell_type": "code",
   "execution_count": null,
   "metadata": {},
   "outputs": [],
   "source": [
    "### create chipwhisperer project\n",
    "project = cw.create_project(\"cpa_sakura\", overwrite=True)"
   ]
  },
  {
   "cell_type": "markdown",
   "metadata": {},
   "source": [
    "### Start trace acquisition\n",
    "Start trace acquisition by the following code."
   ]
  },
  {
   "cell_type": "code",
   "execution_count": null,
   "metadata": {},
   "outputs": [],
   "source": [
    "# acquire traces\n",
    "ktp = cw.ktp.Basic()\n",
    "# generate a key\n",
    "key = ktp.next_key()\n",
    "print(\"key: \", key)\n",
    "\n",
    "trace_count = 100\n",
    "\n",
    "progress_bar = tqdm(total=trace_count, desc=\"Capturing traces\")\n",
    "while len(project.traces) < trace_count:\n",
    "    text = ktp.next_text()\n",
    "    trace = cw.capture_trace(scope, target, text, key)\n",
    "    if trace is None:\n",
    "        continue\n",
    "    project.traces.append(trace)\n",
    "    progress_bar.update(1)"
   ]
  },
  {
   "cell_type": "markdown",
   "metadata": {},
   "source": [
    "### Save project\n",
    "Save the project by the following code."
   ]
  },
  {
   "cell_type": "code",
   "execution_count": null,
   "metadata": {},
   "outputs": [],
   "source": [
    "# save the project\n",
    "project.save()"
   ]
  }
 ],
 "metadata": {
  "kernelspec": {
   "display_name": "venv-saba",
   "language": "python",
   "name": "python3"
  },
  "language_info": {
   "codemirror_mode": {
    "name": "ipython",
    "version": 3
   },
   "file_extension": ".py",
   "mimetype": "text/x-python",
   "name": "python",
   "nbconvert_exporter": "python",
   "pygments_lexer": "ipython3",
   "version": "3.9.18"
  },
  "orig_nbformat": 4
 },
 "nbformat": 4,
 "nbformat_minor": 2
}
